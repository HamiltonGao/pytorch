{
 "cells": [
  {
   "cell_type": "code",
   "execution_count": 32,
   "id": "249b88be-d0c1-4fa7-9a6d-3d0718f0d4c9",
   "metadata": {},
   "outputs": [
    {
     "name": "stdout",
     "output_type": "stream",
     "text": [
      "torch.float32\n"
     ]
    }
   ],
   "source": [
    "import os\n",
    "import pandas as pd\n",
    "import torch\n",
    "\n",
    "os.makedirs(os.path.join('..', 'data'), exist_ok=True)\n",
    "data_file = os.path.join('..', 'data', 'house_big.csv')\n",
    "with open(data_file, 'w') as f:\n",
    "    f.write('NumRooms,Alley,Price\\n')  # 列名\n",
    "    f.write('NA,Pave,127500\\n')  # 每行表示一个数据样本\n",
    "    f.write('2,NA,106000\\n')\n",
    "    f.write('4,NA,178100\\n')\n",
    "    f.write('NA,Pave,140000\\n')\n",
    "    f.write('2,Pave,100000\\n')\n",
    "    f.write('4,NA,178100\\n')\n",
    "    f.write('NA,NA,140200\\n')\n",
    "    f.write('2,Pave,106000\\n')\n",
    "    f.write('4,NA,178100\\n')\n",
    "    f.write('NA,NA,NA\\n')\n",
    "    f.write('NA,Pave,NA\\n')\n",
    "    f.write('NA,Pave,NA\\n')\n",
    "    f.write('NA,Pave,NA\\n')\n",
    "    f.write('NA,Pave,NA\\n')\n",
    "    f.write('NA,Pave,NA\\n')\n",
    "    f.write('NA,Pave,NA\\n')\n",
    "    f.write('NA,Pave,NA\\n')\n",
    "    f.write('NA,Pave,NA\\n')\n",
    "    f.write('NA,Pave,NA\\n')\n",
    "    f.write('NA,Pave,NA\\n')\n",
    "    f.write('NA,Pave,NA\\n')\n",
    "    f.write('NA,Pave,NA\\n')\n",
    "    f.write('NA,Pave,NA\\n')\n",
    "    f.write('NA,Pave,NA\\n')\n",
    "\n",
    "data = pd.read_csv(data_file)\n",
    "lables = ['NumRooms','Alley','Price']\n",
    "count = 0\n",
    "count_max = 0\n",
    "\n",
    "for lable in lables:\n",
    "    count = data[lable].isna().sum()\n",
    "    if count > count_max:\n",
    "        count_max = count\n",
    "        flag = lable\n",
    "data_new = data.drop(flag,axis=1)\n",
    "#print(count_max,'\\n')\n",
    "\n",
    "\n",
    "inputs,outputs = data.iloc[:,0:2], data.iloc[:,2]\n",
    "inputs = pd.get_dummies(inputs.fillna(inputs.mean(numeric_only=True)), dummy_na=True).astype(dtype='float32')\n",
    "outputs = outputs.astype(dtype='float32')\n",
    "input_tensor = torch.tensor(inputs.values)\n",
    "output_tensor = torch.tensor(outputs.values)\n",
    "input_tensor\n",
    "output_tensor\n",
    "print(output_tensor.dtype)"
   ]
  }
 ],
 "metadata": {
  "kernelspec": {
   "display_name": "Python 3 (ipykernel)",
   "language": "python",
   "name": "python3"
  },
  "language_info": {
   "codemirror_mode": {
    "name": "ipython",
    "version": 3
   },
   "file_extension": ".py",
   "mimetype": "text/x-python",
   "name": "python",
   "nbconvert_exporter": "python",
   "pygments_lexer": "ipython3",
   "version": "3.9.20"
  }
 },
 "nbformat": 4,
 "nbformat_minor": 5
}
