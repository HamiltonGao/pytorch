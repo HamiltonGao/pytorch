{
 "cells": [
  {
   "cell_type": "code",
   "execution_count": 43,
   "id": "249b88be-d0c1-4fa7-9a6d-3d0718f0d4c9",
   "metadata": {},
   "outputs": [
    {
     "name": "stdout",
     "output_type": "stream",
     "text": [
      "tensor([[12, 14, 16, 18],\n",
      "        [20, 22, 24, 26],\n",
      "        [28, 30, 32, 34]])\n",
      "tensor([[[0.0000, 0.0036, 0.0072, 0.0109],\n",
      "         [0.0145, 0.0181, 0.0217, 0.0254],\n",
      "         [0.0290, 0.0326, 0.0362, 0.0399]],\n",
      "\n",
      "        [[0.0435, 0.0471, 0.0507, 0.0543],\n",
      "         [0.0580, 0.0616, 0.0652, 0.0688],\n",
      "         [0.0725, 0.0761, 0.0797, 0.0833]]])\n",
      "torch.Size([4])\n"
     ]
    }
   ],
   "source": [
    "import torch\n",
    "x = torch.arange(24).reshape((2,3,4))\n",
    "print(x.sum(axis=0))\n",
    "print(x/x.sum())\n",
    "y = torch.linalg.norm\n",
    "a = torch.ones((3,4))\n",
    "#b = a/a.sum(axis=0)\n",
    "a_sum = a.sum(axis = 0)\n",
    "print(a_sum.shape)"
   ]
  },
  {
   "cell_type": "markdown",
   "id": "a650dc03-0f47-402d-962c-0b34f8a24f0a",
   "metadata": {},
   "source": [
    "## numpy.linalg.norm()\n",
    "可以计算向量或矩阵的范数\n"
   ]
  },
  {
   "cell_type": "code",
   "execution_count": 31,
   "id": "17144520-2ab7-4743-ba17-b4b0cd0885fe",
   "metadata": {},
   "outputs": [
    {
     "name": "stdout",
     "output_type": "stream",
     "text": [
      "5.477225575051661\n"
     ]
    }
   ],
   "source": [
    "import numpy as np\n",
    "\n",
    "m = np.array([[1, 2],[3, 4]])\n",
    "norm = np.linalg.norm(m)\n",
    "print(norm)\n"
   ]
  },
  {
   "cell_type": "code",
   "execution_count": 34,
   "id": "01b19fe1-e466-4fef-9571-3dd84f3d7670",
   "metadata": {},
   "outputs": [
    {
     "ename": "RuntimeError",
     "evalue": "linalg.vector_norm: Expected a floating point or complex tensor as input. Got Long",
     "output_type": "error",
     "traceback": [
      "\u001b[0;31m---------------------------------------------------------------------------\u001b[0m",
      "\u001b[0;31mRuntimeError\u001b[0m                              Traceback (most recent call last)",
      "Cell \u001b[0;32mIn[34], line 3\u001b[0m\n\u001b[1;32m      1\u001b[0m D \u001b[38;5;241m=\u001b[39m torch\u001b[38;5;241m.\u001b[39marange(\u001b[38;5;241m8\u001b[39m)\u001b[38;5;241m.\u001b[39mreshape((\u001b[38;5;241m2\u001b[39m,\u001b[38;5;241m2\u001b[39m,\u001b[38;5;241m2\u001b[39m))\n\u001b[0;32m----> 3\u001b[0m \u001b[43mtorch\u001b[49m\u001b[38;5;241;43m.\u001b[39;49m\u001b[43mlinalg\u001b[49m\u001b[38;5;241;43m.\u001b[39;49m\u001b[43mnorm\u001b[49m\u001b[43m(\u001b[49m\u001b[43mD\u001b[49m\u001b[43m)\u001b[49m\n\u001b[1;32m      5\u001b[0m torch\u001b[38;5;241m.\u001b[39mnorm(E)\n",
      "\u001b[0;31mRuntimeError\u001b[0m: linalg.vector_norm: Expected a floating point or complex tensor as input. Got Long"
     ]
    }
   ],
   "source": [
    "D = torch.arange(8).reshape((2,2,2))\n",
    "\n",
    "torch.linalg.norm(D)\n",
    "\n",
    "torch.norm(E)\n"
   ]
  }
 ],
 "metadata": {
  "kernelspec": {
   "display_name": "Python 3 (ipykernel)",
   "language": "python",
   "name": "python3"
  },
  "language_info": {
   "codemirror_mode": {
    "name": "ipython",
    "version": 3
   },
   "file_extension": ".py",
   "mimetype": "text/x-python",
   "name": "python",
   "nbconvert_exporter": "python",
   "pygments_lexer": "ipython3",
   "version": "3.9.20"
  }
 },
 "nbformat": 4,
 "nbformat_minor": 5
}
